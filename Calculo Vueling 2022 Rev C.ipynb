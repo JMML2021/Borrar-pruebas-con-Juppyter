{
 "cells": [
  {
   "cell_type": "code",
   "execution_count": 325,
   "id": "bd57345b",
   "metadata": {
    "ExecuteTime": {
     "end_time": "2022-05-27T06:07:10.096409Z",
     "start_time": "2022-05-27T06:07:10.077460Z"
    }
   },
   "outputs": [],
   "source": [
    "import numpy as np\n",
    "import matplotlib as plt\n",
    "import pandas as pd\n",
    "import csv\n",
    "import seaborn as sns\n",
    "import datetime\n",
    "from datetime import timedelta\n",
    "from colorama import init, Fore, Back, Style\n"
   ]
  },
  {
   "cell_type": "markdown",
   "id": "969d44c3",
   "metadata": {},
   "source": [
    "# Abrimos los ficheros "
   ]
  },
  {
   "cell_type": "code",
   "execution_count": 326,
   "id": "f94d940b",
   "metadata": {
    "ExecuteTime": {
     "end_time": "2022-05-27T06:07:25.976042Z",
     "start_time": "2022-05-27T06:07:10.098404Z"
    }
   },
   "outputs": [
    {
     "name": "stdout",
     "output_type": "stream",
     "text": [
      "   Secuencia                 STD Departure\n",
      "0        1.0 2022-01-01 07:40:00       BIO\n",
      "1        2.0 2022-01-01 09:40:00       SVQ\n",
      "2        3.0 2022-01-01 11:40:00       BIO\n",
      "3        4.0 2022-01-01 13:30:00       SCQ\n"
     ]
    }
   ],
   "source": [
    "# Abrimos el fichero:\n",
    "path =(r\"D:\\Documentos D\\02.- Datos Vueling\\Flights Movement 2019-2022 MAR.xlsx\")\n",
    "\n",
    "\n",
    "# QUITAR # Para coger un fichero más pequeño\n",
    "#path =(r\"D:\\Documentos D\\02.- Datos Vueling\\Flights Movement 2019-2022 MAR BORRAR.xlsx\")\n",
    "Hoja = 'FLT_2022'\n",
    "df = pd.read_excel(path, sheet_name=Hoja)\n",
    "\n",
    "df['Secuencia'] = df.groupby(['Flight Date', 'Tail'])['STD'].rank()\n",
    "print(df[['Secuencia','STD', 'Departure']][0:4])"
   ]
  },
  {
   "cell_type": "code",
   "execution_count": 327,
   "id": "475c0872",
   "metadata": {
    "ExecuteTime": {
     "end_time": "2022-05-27T06:07:25.991665Z",
     "start_time": "2022-05-27T06:07:25.976042Z"
    }
   },
   "outputs": [
    {
     "name": "stdout",
     "output_type": "stream",
     "text": [
      "\u001b[1m\u001b[34mHola\n",
      "LLLLLL\n"
     ]
    }
   ],
   "source": [
    "print(Style.BRIGHT +Fore.BLUE+'Hola' )\n",
    "print('LLLLLL')"
   ]
  },
  {
   "cell_type": "code",
   "execution_count": 328,
   "id": "e5b256fe",
   "metadata": {
    "ExecuteTime": {
     "end_time": "2022-05-27T06:07:26.007477Z",
     "start_time": "2022-05-27T06:07:25.995510Z"
    }
   },
   "outputs": [
    {
     "name": "stdout",
     "output_type": "stream",
     "text": [
      "FLT_2022\n"
     ]
    }
   ],
   "source": [
    "print(Hoja)"
   ]
  },
  {
   "cell_type": "code",
   "execution_count": 329,
   "id": "f8e5216e",
   "metadata": {
    "ExecuteTime": {
     "end_time": "2022-05-27T06:07:31.436463Z",
     "start_time": "2022-05-27T06:07:26.009472Z"
    }
   },
   "outputs": [],
   "source": [
    "# Identifico los Aeropuertos principales.\n",
    "\n",
    "\n",
    "path =(r\"D:\\Documentos D\\02.- Datos Vueling\\Flights Movement 2019-2022 MAR.xlsx\")\n",
    "df_Aeropuertos = pd.read_excel(path, sheet_name='Aeropuertos')\n",
    "df_Aeropuertos = df_Aeropuertos.drop(['Borrar'], axis=1)\n",
    "\n",
    "#df_Aeropuertos.head\n",
    "\n"
   ]
  },
  {
   "cell_type": "markdown",
   "id": "752bd9f5",
   "metadata": {},
   "source": [
    "# Identificacion de los principales Aeropuertos"
   ]
  },
  {
   "cell_type": "code",
   "execution_count": 330,
   "id": "53b47249",
   "metadata": {
    "ExecuteTime": {
     "end_time": "2022-05-27T06:07:31.608206Z",
     "start_time": "2022-05-27T06:07:31.436463Z"
    }
   },
   "outputs": [
    {
     "data": {
      "text/html": [
       "<div><div id=d91395fd-8b21-42c6-a7d5-07101940fcb7 style=\"display:none; background-color:#9D6CFF; color:white; width:200px; height:30px; padding-left:5px; border-radius:4px; flex-direction:row; justify-content:space-around; align-items:center;\" onmouseover=\"this.style.backgroundColor='#BA9BF8'\" onmouseout=\"this.style.backgroundColor='#9D6CFF'\" onclick=\"window.commands?.execute('create-mitosheet-from-dataframe-output');\">See Full Dataframe in Mito</div> <script> if (window.commands?.hasCommand('create-mitosheet-from-dataframe-output')) document.getElementById('d91395fd-8b21-42c6-a7d5-07101940fcb7').style.display = 'flex' </script> <table border=\"1\" class=\"dataframe\">\n",
       "  <thead>\n",
       "    <tr style=\"text-align: right;\">\n",
       "      <th></th>\n",
       "      <th>Flight Number</th>\n",
       "      <th>Leg Code</th>\n",
       "      <th>Flight Date</th>\n",
       "      <th>Departure</th>\n",
       "      <th>Arrival</th>\n",
       "      <th>Tail</th>\n",
       "      <th>STD</th>\n",
       "      <th>STA</th>\n",
       "      <th>ATD</th>\n",
       "      <th>ATA</th>\n",
       "      <th>Total DLY Dep</th>\n",
       "      <th>Close Pax Door</th>\n",
       "      <th>Close Cargo Door</th>\n",
       "      <th>Open Cargo/Pax Door</th>\n",
       "      <th>Stand Dep</th>\n",
       "      <th>Stand Arr</th>\n",
       "      <th>Secuencia</th>\n",
       "      <th>MES</th>\n",
       "      <th>Aeropuerto_Key</th>\n",
       "      <th>AeropuertoKey1</th>\n",
       "    </tr>\n",
       "  </thead>\n",
       "  <tbody>\n",
       "    <tr>\n",
       "      <th>0</th>\n",
       "      <td>2506</td>\n",
       "      <td></td>\n",
       "      <td>2022-01-01</td>\n",
       "      <td>BIO</td>\n",
       "      <td>SVQ</td>\n",
       "      <td>EC-JSY</td>\n",
       "      <td>2022-01-01 07:40:00</td>\n",
       "      <td>2022-01-01 09:05:00</td>\n",
       "      <td>2022-01-01 08:00:00</td>\n",
       "      <td>2022-01-01 09:20:00</td>\n",
       "      <td>40</td>\n",
       "      <td>2022-01-01 07:58:00.000</td>\n",
       "      <td>2022-01-01 07:31:00.000</td>\n",
       "      <td>2022-01-01 09:23:00.000</td>\n",
       "      <td>4</td>\n",
       "      <td>1</td>\n",
       "      <td>1.0</td>\n",
       "      <td>1</td>\n",
       "      <td>BIO</td>\n",
       "      <td>SVQ</td>\n",
       "    </tr>\n",
       "    <tr>\n",
       "      <th>1</th>\n",
       "      <td>2505</td>\n",
       "      <td></td>\n",
       "      <td>2022-01-01</td>\n",
       "      <td>SVQ</td>\n",
       "      <td>BIO</td>\n",
       "      <td>EC-JSY</td>\n",
       "      <td>2022-01-01 09:40:00</td>\n",
       "      <td>2022-01-01 11:05:00</td>\n",
       "      <td>2022-01-01 09:51:00</td>\n",
       "      <td>2022-01-01 11:09:00</td>\n",
       "      <td>11</td>\n",
       "      <td>2022-01-01 09:48:00.000</td>\n",
       "      <td>2022-01-01 09:46:00.000</td>\n",
       "      <td>2022-01-01 11:11:00.000</td>\n",
       "      <td>1</td>\n",
       "      <td>3</td>\n",
       "      <td>2.0</td>\n",
       "      <td>1</td>\n",
       "      <td>SVQ</td>\n",
       "      <td>BIO</td>\n",
       "    </tr>\n",
       "  </tbody>\n",
       "</table></div>"
      ],
      "text/plain": [
       "   Flight Number Leg Code Flight Date Departure Arrival    Tail  \\\n",
       "0           2506           2022-01-01       BIO     SVQ  EC-JSY   \n",
       "1           2505           2022-01-01       SVQ     BIO  EC-JSY   \n",
       "\n",
       "                  STD                 STA                 ATD  \\\n",
       "0 2022-01-01 07:40:00 2022-01-01 09:05:00 2022-01-01 08:00:00   \n",
       "1 2022-01-01 09:40:00 2022-01-01 11:05:00 2022-01-01 09:51:00   \n",
       "\n",
       "                  ATA  Total DLY Dep           Close Pax Door  \\\n",
       "0 2022-01-01 09:20:00             40  2022-01-01 07:58:00.000   \n",
       "1 2022-01-01 11:09:00             11  2022-01-01 09:48:00.000   \n",
       "\n",
       "          Close Cargo Door      Open Cargo/Pax Door Stand Dep Stand Arr  \\\n",
       "0  2022-01-01 07:31:00.000  2022-01-01 09:23:00.000         4         1   \n",
       "1  2022-01-01 09:46:00.000  2022-01-01 11:11:00.000         1         3   \n",
       "\n",
       "   Secuencia  MES Aeropuerto_Key AeropuertoKey1  \n",
       "0        1.0    1            BIO            SVQ  \n",
       "1        2.0    1            SVQ            BIO  "
      ]
     },
     "execution_count": 330,
     "metadata": {},
     "output_type": "execute_result"
    }
   ],
   "source": [
    "#Agrupo por aeropuerto de Salida\n",
    "\n",
    "df['MES'] = df['STD'].dt.month\n",
    "\n",
    "df= pd.merge(df,df_Aeropuertos, left_on= 'Departure', right_on='Dep')\n",
    "\n",
    "df= pd.merge(df,df_Aeropuertos, left_on= 'Arrival', right_on='Dep')\n",
    "\n",
    "\n",
    "df= df.rename({'AeropuertoKey1_x': 'Aeropuerto_Key', 'AeropuertoKey1_y': 'AeropuertoKey1'}, axis=1)\n",
    "\n",
    "df= df.sort_values(['Flight Date', 'Tail', 'STD'])\n",
    "df= df.reset_index(drop=True)\n",
    "borrarColumnas = ['Dep_x', 'Dep_y']\n",
    "df = df.drop(borrarColumnas, axis=1)\n",
    "df.head(2)\n"
   ]
  },
  {
   "cell_type": "markdown",
   "id": "46ff0abb",
   "metadata": {
    "ExecuteTime": {
     "end_time": "2022-05-25T05:42:55.224452Z",
     "start_time": "2022-05-25T05:42:55.212482Z"
    }
   },
   "source": [
    "# Calculo tiempo en vuelo 1"
   ]
  },
  {
   "cell_type": "code",
   "execution_count": 331,
   "id": "e3a6b3fe",
   "metadata": {
    "ExecuteTime": {
     "end_time": "2022-05-27T06:07:31.623828Z",
     "start_time": "2022-05-27T06:07:31.608206Z"
    }
   },
   "outputs": [
    {
     "data": {
      "text/plain": [
       "Index(['Flight Number', 'Leg Code', 'Flight Date', 'Departure', 'Arrival',\n",
       "       'Tail', 'STD', 'STA', 'ATD', 'ATA', 'Total DLY Dep', 'Close Pax Door',\n",
       "       'Close Cargo Door', 'Open Cargo/Pax Door', 'Stand Dep', 'Stand Arr',\n",
       "       'Secuencia', 'MES', 'Aeropuerto_Key', 'AeropuertoKey1'],\n",
       "      dtype='object')"
      ]
     },
     "execution_count": 331,
     "metadata": {},
     "output_type": "execute_result"
    }
   ],
   "source": [
    "df.columns"
   ]
  },
  {
   "cell_type": "code",
   "execution_count": 332,
   "id": "655d0ec0",
   "metadata": {
    "ExecuteTime": {
     "end_time": "2022-05-27T06:07:31.639209Z",
     "start_time": "2022-05-27T06:07:31.623828Z"
    }
   },
   "outputs": [
    {
     "data": {
      "text/plain": [
       "0   -5.0\n",
       "1   -7.0\n",
       "2   -5.0\n",
       "Name: E_Duracion_Vuelo, dtype: float64"
      ]
     },
     "execution_count": 332,
     "metadata": {},
     "output_type": "execute_result"
    }
   ],
   "source": [
    "# Calulo tiempo de vuelo teorico Real y error\n",
    "df['DuracionVueloTeorico']= (df['STA'] - df['STD'])/  np.timedelta64(1, 'm') \n",
    "df['DuracionVueloReal'] = (df['ATA'] - df['ATD']) /  np.timedelta64(1, 'm') \n",
    "df['E_Duracion_Vuelo'] = (df['DuracionVueloReal'] - df['DuracionVueloTeorico']) #/  np.timedelta64(1, 'm') \n",
    "df['E_Duracion_Vuelo'].head(3)"
   ]
  },
  {
   "cell_type": "markdown",
   "id": "efea1c53",
   "metadata": {},
   "source": [
    "# Tiempo Close Pax y Close Cargo Door"
   ]
  },
  {
   "cell_type": "code",
   "execution_count": 333,
   "id": "9e124712",
   "metadata": {
    "ExecuteTime": {
     "end_time": "2022-05-27T06:07:31.773382Z",
     "start_time": "2022-05-27T06:07:31.641116Z"
    }
   },
   "outputs": [
    {
     "data": {
      "text/html": [
       "<div><div id=2e581f6f-fec9-4756-8f23-f58488051752 style=\"display:none; background-color:#9D6CFF; color:white; width:200px; height:30px; padding-left:5px; border-radius:4px; flex-direction:row; justify-content:space-around; align-items:center;\" onmouseover=\"this.style.backgroundColor='#BA9BF8'\" onmouseout=\"this.style.backgroundColor='#9D6CFF'\" onclick=\"window.commands?.execute('create-mitosheet-from-dataframe-output');\">See Full Dataframe in Mito</div> <script> if (window.commands?.hasCommand('create-mitosheet-from-dataframe-output')) document.getElementById('2e581f6f-fec9-4756-8f23-f58488051752').style.display = 'flex' </script> <table border=\"1\" class=\"dataframe\">\n",
       "  <thead>\n",
       "    <tr style=\"text-align: right;\">\n",
       "      <th></th>\n",
       "      <th>t_ClosePax</th>\n",
       "      <th>t_Close_Cargo_Door</th>\n",
       "      <th>t_Entre_Puertas</th>\n",
       "    </tr>\n",
       "  </thead>\n",
       "  <tbody>\n",
       "    <tr>\n",
       "      <th>0</th>\n",
       "      <td>-2.0</td>\n",
       "      <td>-29.0</td>\n",
       "      <td>-27.0</td>\n",
       "    </tr>\n",
       "    <tr>\n",
       "      <th>1</th>\n",
       "      <td>-3.0</td>\n",
       "      <td>-5.0</td>\n",
       "      <td>-2.0</td>\n",
       "    </tr>\n",
       "    <tr>\n",
       "      <th>2</th>\n",
       "      <td>-2.0</td>\n",
       "      <td>-6.0</td>\n",
       "      <td>-4.0</td>\n",
       "    </tr>\n",
       "    <tr>\n",
       "      <th>3</th>\n",
       "      <td>-5.0</td>\n",
       "      <td>-17.0</td>\n",
       "      <td>-12.0</td>\n",
       "    </tr>\n",
       "  </tbody>\n",
       "</table></div>"
      ],
      "text/plain": [
       "   t_ClosePax  t_Close_Cargo_Door  t_Entre_Puertas\n",
       "0        -2.0               -29.0            -27.0\n",
       "1        -3.0                -5.0             -2.0\n",
       "2        -2.0                -6.0             -4.0\n",
       "3        -5.0               -17.0            -12.0"
      ]
     },
     "execution_count": 333,
     "metadata": {},
     "output_type": "execute_result"
    }
   ],
   "source": [
    "df['Close Pax Door'] =pd.to_datetime(df['Close Pax Door'])\n",
    "df['t_ClosePax'] =   (df['Close Pax Door'] - df['ATD']) /  np.timedelta64(1, 'm') \n",
    "\n",
    "\n",
    "df ['Close Cargo Door']=pd.to_datetime(df ['Close Cargo Door'])\n",
    "df['t_Close_Cargo_Door'] = (df ['Close Cargo Door'] - df['ATD']) /  np.timedelta64(1, 'm') \n",
    "\n",
    "df['Close Pax Door'] =pd.to_datetime(df['Close Pax Door'])\n",
    "df ['Close Cargo Door']=pd.to_datetime(df ['Close Cargo Door'])\n",
    "\n",
    "df['t_Entre_Puertas'] = (df ['Close Cargo Door'] - df['Close Pax Door']) /  np.timedelta64(1, 'm') \n",
    "df[[ 't_ClosePax','t_Close_Cargo_Door', 't_Entre_Puertas'] ].head(4)"
   ]
  },
  {
   "cell_type": "code",
   "execution_count": 334,
   "id": "4c5b4de5",
   "metadata": {
    "ExecuteTime": {
     "end_time": "2022-05-27T06:07:31.787578Z",
     "start_time": "2022-05-27T06:07:31.773382Z"
    }
   },
   "outputs": [
    {
     "data": {
      "text/plain": [
       "0       2022-01-01 07:31:00\n",
       "1       2022-01-01 09:46:00\n",
       "2       2022-01-01 11:34:00\n",
       "3       2022-01-01 13:06:00\n",
       "4       2022-01-01 15:01:00\n",
       "                ...        \n",
       "60487   2022-05-23 00:00:00\n",
       "60488   2022-05-23 00:00:00\n",
       "60489   2022-05-23 00:00:00\n",
       "60490   2022-05-23 00:00:00\n",
       "60491   2022-05-23 00:00:00\n",
       "Name: Close Cargo Door, Length: 60492, dtype: datetime64[ns]"
      ]
     },
     "execution_count": 334,
     "metadata": {},
     "output_type": "execute_result"
    }
   ],
   "source": [
    "df ['Close Cargo Door']"
   ]
  },
  {
   "cell_type": "code",
   "execution_count": 335,
   "id": "b0f24ca1",
   "metadata": {
    "ExecuteTime": {
     "end_time": "2022-05-27T06:07:31.801218Z",
     "start_time": "2022-05-27T06:07:31.787578Z"
    }
   },
   "outputs": [
    {
     "data": {
      "text/plain": [
       "0         -29.0\n",
       "1          -5.0\n",
       "2          -6.0\n",
       "3         -17.0\n",
       "4          -6.0\n",
       "          ...  \n",
       "60487    -540.0\n",
       "60488    -811.0\n",
       "60489    -959.0\n",
       "60490   -1181.0\n",
       "60491   -1287.0\n",
       "Name: t_Close_Cargo_Door, Length: 60492, dtype: float64"
      ]
     },
     "execution_count": 335,
     "metadata": {},
     "output_type": "execute_result"
    }
   ],
   "source": [
    "df['t_Close_Cargo_Door']"
   ]
  },
  {
   "cell_type": "code",
   "execution_count": 336,
   "id": "4d361c29",
   "metadata": {
    "ExecuteTime": {
     "end_time": "2022-05-27T06:07:31.841703Z",
     "start_time": "2022-05-27T06:07:31.801218Z"
    }
   },
   "outputs": [
    {
     "data": {
      "text/plain": [
       "0    BIO-SVQ\n",
       "1    BIO-SVQ\n",
       "2    BIO-SCQ\n",
       "3    BIO-SCQ\n",
       "Name: Trayecto, dtype: object"
      ]
     },
     "execution_count": 336,
     "metadata": {},
     "output_type": "execute_result"
    }
   ],
   "source": [
    "# Estudio los trayectos.\n",
    "condicion = [(df['Departure'] < df['Arrival']),  (df['Arrival'] < df['Departure'])]\n",
    "\n",
    "valores = [  (df['Departure'] + '-' + df['Arrival']),  (df['Arrival'] + '-' + df['Departure'])]\n",
    "\n",
    "df['Trayecto'] = np.select(condicion, valores ) \n",
    "df['Trayecto'].head(4)\n",
    "\n",
    "#df5 = df.where('Departure' > 'Arrival',  'Departure' + 'Arrival',  'Arrival' +'Departure')"
   ]
  },
  {
   "cell_type": "code",
   "execution_count": 337,
   "id": "423c4e1b",
   "metadata": {
    "ExecuteTime": {
     "end_time": "2022-05-27T06:07:31.884249Z",
     "start_time": "2022-05-27T06:07:31.841703Z"
    }
   },
   "outputs": [
    {
     "data": {
      "text/html": [
       "<div><div id=6a4de24c-7d63-46c0-a8ae-23c423c85bc4 style=\"display:none; background-color:#9D6CFF; color:white; width:200px; height:30px; padding-left:5px; border-radius:4px; flex-direction:row; justify-content:space-around; align-items:center;\" onmouseover=\"this.style.backgroundColor='#BA9BF8'\" onmouseout=\"this.style.backgroundColor='#9D6CFF'\" onclick=\"window.commands?.execute('create-mitosheet-from-dataframe-output');\">See Full Dataframe in Mito</div> <script> if (window.commands?.hasCommand('create-mitosheet-from-dataframe-output')) document.getElementById('6a4de24c-7d63-46c0-a8ae-23c423c85bc4').style.display = 'flex' </script> <table border=\"1\" class=\"dataframe\">\n",
       "  <thead>\n",
       "    <tr style=\"text-align: right;\">\n",
       "      <th></th>\n",
       "      <th>Flight Number</th>\n",
       "      <th>Leg Code</th>\n",
       "      <th>Flight Date</th>\n",
       "      <th>Departure</th>\n",
       "      <th>Arrival</th>\n",
       "      <th>Tail</th>\n",
       "      <th>STD</th>\n",
       "      <th>STA</th>\n",
       "      <th>ATD</th>\n",
       "      <th>ATA</th>\n",
       "      <th>...</th>\n",
       "      <th>MES</th>\n",
       "      <th>Aeropuerto_Key</th>\n",
       "      <th>AeropuertoKey1</th>\n",
       "      <th>DuracionVueloTeorico</th>\n",
       "      <th>DuracionVueloReal</th>\n",
       "      <th>E_Duracion_Vuelo</th>\n",
       "      <th>t_ClosePax</th>\n",
       "      <th>t_Close_Cargo_Door</th>\n",
       "      <th>t_Entre_Puertas</th>\n",
       "      <th>Trayecto</th>\n",
       "    </tr>\n",
       "  </thead>\n",
       "  <tbody>\n",
       "    <tr>\n",
       "      <th>0</th>\n",
       "      <td>2506</td>\n",
       "      <td></td>\n",
       "      <td>2022-01-01</td>\n",
       "      <td>BIO</td>\n",
       "      <td>SVQ</td>\n",
       "      <td>EC-JSY</td>\n",
       "      <td>2022-01-01 07:40:00</td>\n",
       "      <td>2022-01-01 09:05:00</td>\n",
       "      <td>2022-01-01 08:00:00</td>\n",
       "      <td>2022-01-01 09:20:00</td>\n",
       "      <td>...</td>\n",
       "      <td>1</td>\n",
       "      <td>BIO</td>\n",
       "      <td>SVQ</td>\n",
       "      <td>85.0</td>\n",
       "      <td>80.0</td>\n",
       "      <td>-5.0</td>\n",
       "      <td>-2.0</td>\n",
       "      <td>-29.0</td>\n",
       "      <td>-27.0</td>\n",
       "      <td>BIO-SVQ</td>\n",
       "    </tr>\n",
       "    <tr>\n",
       "      <th>1</th>\n",
       "      <td>2505</td>\n",
       "      <td></td>\n",
       "      <td>2022-01-01</td>\n",
       "      <td>SVQ</td>\n",
       "      <td>BIO</td>\n",
       "      <td>EC-JSY</td>\n",
       "      <td>2022-01-01 09:40:00</td>\n",
       "      <td>2022-01-01 11:05:00</td>\n",
       "      <td>2022-01-01 09:51:00</td>\n",
       "      <td>2022-01-01 11:09:00</td>\n",
       "      <td>...</td>\n",
       "      <td>1</td>\n",
       "      <td>SVQ</td>\n",
       "      <td>BIO</td>\n",
       "      <td>85.0</td>\n",
       "      <td>78.0</td>\n",
       "      <td>-7.0</td>\n",
       "      <td>-3.0</td>\n",
       "      <td>-5.0</td>\n",
       "      <td>-2.0</td>\n",
       "      <td>BIO-SVQ</td>\n",
       "    </tr>\n",
       "  </tbody>\n",
       "</table></div>"
      ],
      "text/plain": [
       "   Flight Number Leg Code Flight Date Departure Arrival    Tail  \\\n",
       "0           2506           2022-01-01       BIO     SVQ  EC-JSY   \n",
       "1           2505           2022-01-01       SVQ     BIO  EC-JSY   \n",
       "\n",
       "                  STD                 STA                 ATD  \\\n",
       "0 2022-01-01 07:40:00 2022-01-01 09:05:00 2022-01-01 08:00:00   \n",
       "1 2022-01-01 09:40:00 2022-01-01 11:05:00 2022-01-01 09:51:00   \n",
       "\n",
       "                  ATA  ...  MES Aeropuerto_Key AeropuertoKey1  \\\n",
       "0 2022-01-01 09:20:00  ...    1            BIO            SVQ   \n",
       "1 2022-01-01 11:09:00  ...    1            SVQ            BIO   \n",
       "\n",
       "  DuracionVueloTeorico DuracionVueloReal E_Duracion_Vuelo  t_ClosePax  \\\n",
       "0                 85.0              80.0             -5.0        -2.0   \n",
       "1                 85.0              78.0             -7.0        -3.0   \n",
       "\n",
       "   t_Close_Cargo_Door t_Entre_Puertas Trayecto  \n",
       "0               -29.0           -27.0  BIO-SVQ  \n",
       "1                -5.0            -2.0  BIO-SVQ  \n",
       "\n",
       "[2 rows x 27 columns]"
      ]
     },
     "execution_count": 337,
     "metadata": {},
     "output_type": "execute_result"
    }
   ],
   "source": [
    "# Creo la secuencia de vuelos de cada avión cada día\n",
    "\n",
    "df['Secuencia'] = df.groupby(['Flight Date', 'Tail'])['STD'].rank()\n",
    "\n",
    "\n",
    "df1=df\n",
    "df1.head(2)\n",
    "\n"
   ]
  },
  {
   "cell_type": "code",
   "execution_count": null,
   "id": "b8ae2f3c",
   "metadata": {},
   "outputs": [],
   "source": []
  },
  {
   "cell_type": "code",
   "execution_count": 338,
   "id": "371640ee",
   "metadata": {
    "ExecuteTime": {
     "end_time": "2022-05-27T06:07:31.897654Z",
     "start_time": "2022-05-27T06:07:31.884249Z"
    }
   },
   "outputs": [
    {
     "data": {
      "text/plain": [
       "\"\\ndfAeropuertos1 = pd.DataFrame(df['Departure'])\\n#dfAeropuertos1.insert(1,'counts',1)\\n\\ndfAeropuertos1 = pd.DataFrame(dfAeropuertos1.value_counts()).reset_index()\\n\\ndfAeropuertos1.columns = ['Dep', 'Count']\\nTotal = dfAeropuertos1['Count'].sum()\\nprint('Total= ', Total)\\n\\ndfAeropuertos1['percent'] = (dfAeropuertos1['Count'] / \\n                 dfAeropuertos1['Count'].sum()) * 100\\ndfAeropuertos1[:3]\\n\""
      ]
     },
     "execution_count": 338,
     "metadata": {},
     "output_type": "execute_result"
    }
   ],
   "source": [
    "'''\n",
    "dfAeropuertos1 = pd.DataFrame(df['Departure'])\n",
    "#dfAeropuertos1.insert(1,'counts',1)\n",
    "\n",
    "dfAeropuertos1 = pd.DataFrame(dfAeropuertos1.value_counts()).reset_index()\n",
    "\n",
    "dfAeropuertos1.columns = ['Dep', 'Count']\n",
    "Total = dfAeropuertos1['Count'].sum()\n",
    "print('Total= ', Total)\n",
    "\n",
    "dfAeropuertos1['percent'] = (dfAeropuertos1['Count'] / \n",
    "                 dfAeropuertos1['Count'].sum()) * 100\n",
    "dfAeropuertos1[:3]\n",
    "'''"
   ]
  },
  {
   "cell_type": "code",
   "execution_count": null,
   "id": "19b189ba",
   "metadata": {},
   "outputs": [],
   "source": []
  },
  {
   "cell_type": "code",
   "execution_count": 339,
   "id": "86b9da17",
   "metadata": {
    "ExecuteTime": {
     "end_time": "2022-05-27T06:07:31.911344Z",
     "start_time": "2022-05-27T06:07:31.897654Z"
    }
   },
   "outputs": [
    {
     "data": {
      "text/plain": [
       "\"\\nfilas1 = (dfAeropuertos1.iloc[:5])\\nfilas = (dfAeropuertos1.iloc[:5])\\nfilas = filas['Dep'].tolist()\\nfilas.append('Otros')\\n\\nfilass = dfAeropuertos1.merge(filas1)\\nfilass\\n\""
      ]
     },
     "execution_count": 339,
     "metadata": {},
     "output_type": "execute_result"
    }
   ],
   "source": [
    "'''\n",
    "filas1 = (dfAeropuertos1.iloc[:5])\n",
    "filas = (dfAeropuertos1.iloc[:5])\n",
    "filas = filas['Dep'].tolist()\n",
    "filas.append('Otros')\n",
    "\n",
    "filass = dfAeropuertos1.merge(filas1)\n",
    "filass\n",
    "'''"
   ]
  },
  {
   "cell_type": "code",
   "execution_count": 340,
   "id": "7a0b3279",
   "metadata": {
    "ExecuteTime": {
     "end_time": "2022-05-27T06:07:31.925081Z",
     "start_time": "2022-05-27T06:07:31.911344Z"
    }
   },
   "outputs": [
    {
     "data": {
      "text/plain": [
       "\"\\nggg= pd.merge(df,filas1, left_on= 'Departure', right_on='Dep')\\n\\n\\nggg= ggg.sort_values(['STD', 'Tail'])\\n\\n\\ndf= df.reset_index(drop=True)\\nprint(df[['Secuencia','STD', 'Aeropuerto_Key1', 'Aeropuerto_Key2']][0:8])\\n#df= df.rename({'Aeropuerto_Key': 'Aeropuerto_Key1'}, axis=1)\\n\\n\\n#ggg= df.merge(filas1)\\nggg[200:205]\\n\""
      ]
     },
     "execution_count": 340,
     "metadata": {},
     "output_type": "execute_result"
    }
   ],
   "source": [
    "#Agrupo por aeropuerto de Salida\n",
    "'''\n",
    "ggg= pd.merge(df,filas1, left_on= 'Departure', right_on='Dep')\n",
    "\n",
    "\n",
    "ggg= ggg.sort_values(['STD', 'Tail'])\n",
    "\n",
    "\n",
    "df= df.reset_index(drop=True)\n",
    "print(df[['Secuencia','STD', 'Aeropuerto_Key1', 'Aeropuerto_Key2']][0:8])\n",
    "#df= df.rename({'Aeropuerto_Key': 'Aeropuerto_Key1'}, axis=1)\n",
    "\n",
    "\n",
    "#ggg= df.merge(filas1)\n",
    "ggg[200:205]\n",
    "'''"
   ]
  },
  {
   "cell_type": "code",
   "execution_count": 341,
   "id": "9ccb871f",
   "metadata": {
    "ExecuteTime": {
     "end_time": "2022-05-27T06:07:31.940534Z",
     "start_time": "2022-05-27T06:07:31.925081Z"
    }
   },
   "outputs": [
    {
     "data": {
      "text/plain": [
       "\"\\ndf1 = pd.DataFrame(df, columns=['Departure'])\\ndf1.insert(1,'counts',1)\\ndf1 = df1.groupby('Departure').count().reset_index()\\ndf1\\n\""
      ]
     },
     "execution_count": 341,
     "metadata": {},
     "output_type": "execute_result"
    }
   ],
   "source": [
    "'''\n",
    "df1 = pd.DataFrame(df, columns=['Departure'])\n",
    "df1.insert(1,'counts',1)\n",
    "df1 = df1.groupby('Departure').count().reset_index()\n",
    "df1\n",
    "'''"
   ]
  },
  {
   "cell_type": "code",
   "execution_count": 342,
   "id": "cde79d5f",
   "metadata": {
    "ExecuteTime": {
     "end_time": "2022-05-27T06:07:31.966894Z",
     "start_time": "2022-05-27T06:07:31.940534Z"
    }
   },
   "outputs": [],
   "source": [
    "# Analizo el retardo en el despegue:\n",
    "def dibujarScatter( ejeX, ejeY):\n",
    "    x= df1[ejeX]\n",
    "    y = df1[ejeY]    \n",
    "    ax = sns.scatterplot(x , y )\n",
    "\n"
   ]
  },
  {
   "cell_type": "markdown",
   "id": "82753f5b",
   "metadata": {},
   "source": [
    "# Puntualidad media primer despegue en el 2019!"
   ]
  },
  {
   "cell_type": "code",
   "execution_count": 343,
   "id": "85a1720f",
   "metadata": {
    "ExecuteTime": {
     "end_time": "2022-05-27T06:07:32.282603Z",
     "start_time": "2022-05-27T06:07:31.966894Z"
    }
   },
   "outputs": [
    {
     "name": "stderr",
     "output_type": "stream",
     "text": [
      "C:\\Users\\jmmat\\anaconda3\\lib\\site-packages\\seaborn\\_decorators.py:36: FutureWarning: Pass the following variables as keyword args: x, y. From version 0.12, the only valid positional argument will be `data`, and passing other arguments without an explicit keyword will result in an error or misinterpretation.\n",
      "  warnings.warn(\n"
     ]
    },
    {
     "data": {
      "image/png": "[encoded data removed]",
      "text/plain": [
       "<Figure size 1080x576 with 1 Axes>"
      ]
     },
     "metadata": {},
     "output_type": "display_data"
    }
   ],
   "source": [
    "ax = sns.scatterplot( df1['STD'], df1['ATD'])"
   ]
  },
  {
   "cell_type": "markdown",
   "id": "1373549b",
   "metadata": {},
   "source": [
    "# Calculo error del primer despegue."
   ]
  },
  {
   "cell_type": "code",
   "execution_count": 344,
   "id": "18c70c06",
   "metadata": {
    "ExecuteTime": {
     "end_time": "2022-05-27T06:07:32.307569Z",
     "start_time": "2022-05-27T06:07:32.284176Z"
    }
   },
   "outputs": [
    {
     "name": "stdout",
     "output_type": "stream",
     "text": [
      "   Flight Date    Tail  Secuencia                 STD\n",
      "0   2022-01-01  EC-JSY        1.0 2022-01-01 07:40:00\n",
      "6   2022-01-01  EC-JZI        1.0 2022-01-01 07:30:00\n",
      "12  2022-01-01  EC-KDG        1.0 2022-01-01 14:20:00\n",
      "16  2022-01-01  EC-KDH        1.0 2022-01-01 07:50:00\n",
      "21  2022-01-01  EC-KDX        1.0 2022-01-01 17:35:00\n",
      "24  2022-01-01  EC-KLB        1.0 2022-01-01 05:25:00\n",
      "29  2022-01-01  EC-KLT        1.0 2022-01-01 07:30:00\n",
      "33  2022-01-01  EC-KMI        1.0 2022-01-01 12:05:00\n"
     ]
    }
   ],
   "source": [
    "# Filtro primer despegue\n",
    "\n",
    "vuelosPrimerDespegue= (df1['Secuencia']== 1)\n",
    "df2 = df1[vuelosPrimerDespegue]\n",
    "print(df2[['Flight Date','Tail', 'Secuencia','STD']][0:8])\n"
   ]
  },
  {
   "cell_type": "code",
   "execution_count": 345,
   "id": "b65cc2ca",
   "metadata": {
    "ExecuteTime": {
     "end_time": "2022-05-27T06:07:32.323073Z",
     "start_time": "2022-05-27T06:07:32.307569Z"
    }
   },
   "outputs": [
    {
     "data": {
      "text/plain": [
       "\"\\nvuelosPrimerDespegue= (df1['Secuencia']== 1)\\ndf2 = df1[vuelosPrimerDespegue]\\n\\ndf2['E_Despegue'] = (df2['Date_ATD']- df2['Date_STD']) /  np.imedelta64(1, 'm')\\n\\n\\n#df2['E_Despegue']=df2['E_Despegue'].np.time\\n\\ndf2['E_Despegue'].head(8)\\nprint(df2[['DATE','REG', 'E_Despegue', 'Date_ATD', 'Date_STD']][0:8])\\n#sns.histplot(data= df1.E_Despegue, kde= True)\\n\""
      ]
     },
     "execution_count": 345,
     "metadata": {},
     "output_type": "execute_result"
    }
   ],
   "source": [
    "\n",
    "#Calculo error despegue:\n",
    "'''\n",
    "vuelosPrimerDespegue= (df1['Secuencia']== 1)\n",
    "df2 = df1[vuelosPrimerDespegue]\n",
    "\n",
    "df2['E_Despegue'] = (df2['Date_ATD']- df2['Date_STD']) /  np.imedelta64(1, 'm')\n",
    "\n",
    "\n",
    "#df2['E_Despegue']=df2['E_Despegue'].np.time\n",
    "\n",
    "df2['E_Despegue'].head(8)\n",
    "print(df2[['DATE','REG', 'E_Despegue', 'Date_ATD', 'Date_STD']][0:8])\n",
    "#sns.histplot(data= df1.E_Despegue, kde= True)\n",
    "'''"
   ]
  },
  {
   "cell_type": "code",
   "execution_count": 346,
   "id": "0170f31a",
   "metadata": {
    "ExecuteTime": {
     "end_time": "2022-05-27T06:07:32.338391Z",
     "start_time": "2022-05-27T06:07:32.323950Z"
    }
   },
   "outputs": [
    {
     "name": "stdout",
     "output_type": "stream",
     "text": [
      "   Flight Date    Tail  Secuencia                 STD                 ATD\n",
      "0   2022-01-01  EC-JSY        1.0 2022-01-01 07:40:00 2022-01-01 08:00:00\n",
      "6   2022-01-01  EC-JZI        1.0 2022-01-01 07:30:00 2022-01-01 07:12:00\n",
      "12  2022-01-01  EC-KDG        1.0 2022-01-01 14:20:00 2022-01-01 14:27:00\n",
      "16  2022-01-01  EC-KDH        1.0 2022-01-01 07:50:00 2022-01-01 08:13:00\n",
      "21  2022-01-01  EC-KDX        1.0 2022-01-01 17:35:00 2022-01-01 17:31:00\n",
      "24  2022-01-01  EC-KLB        1.0 2022-01-01 05:25:00 2022-01-01 05:20:00\n",
      "29  2022-01-01  EC-KLT        1.0 2022-01-01 07:30:00 2022-01-01 07:29:00\n",
      "33  2022-01-01  EC-KMI        1.0 2022-01-01 12:05:00 2022-01-01 12:01:00\n",
      "Media =  1.5895325001653111\n"
     ]
    }
   ],
   "source": [
    "#Calculo error primer despegue despegue:\n",
    "\n",
    "df1['E_Despegue'] = (df1['ATD']- df1['STD']) /  np.timedelta64(1, 'm')\n",
    "\n",
    " \n",
    "df1['E_Despegue'].head()\n",
    " \n",
    "\n",
    "#print(df1['E_Despegue'][0], '-----', df1['Date_ATD'][0], '........', df1['Date_STD'][0])\n",
    "#print(df1[['DATE','REG', 'E_Despegue', 'Date_ATD', 'Date_STD']][0:8])\n",
    "\n",
    "print(df2[['Flight Date','Tail', 'Secuencia','STD', 'ATD']][0:8])\n",
    "\n",
    "print('Media = ', df1['E_Despegue'].mean())"
   ]
  },
  {
   "cell_type": "code",
   "execution_count": 347,
   "id": "d08be5e9",
   "metadata": {
    "ExecuteTime": {
     "end_time": "2022-05-27T06:07:36.836876Z",
     "start_time": "2022-05-27T06:07:32.339990Z"
    }
   },
   "outputs": [
    {
     "data": {
      "text/plain": [
       "<AxesSubplot:xlabel='E_Despegue', ylabel='Count'>"
      ]
     },
     "execution_count": 347,
     "metadata": {},
     "output_type": "execute_result"
    },
    {
     "data": {
      "image/png": "[encoded data removed]",
      "text/plain": [
       "<Figure size 1080x576 with 1 Axes>"
      ]
     },
     "metadata": {},
     "output_type": "display_data"
    }
   ],
   "source": [
    "sns.histplot(data= df1.E_Despegue, kde= True)"
   ]
  },
  {
   "cell_type": "markdown",
   "id": "1ea80fcb",
   "metadata": {},
   "source": [
    "# Vemos que hay mucha dispersion hay que filtrar los datos a:\n",
    "## error de salida > 30 y < 30 y es el primer despegue"
   ]
  },
  {
   "cell_type": "code",
   "execution_count": 348,
   "id": "c48f08ae",
   "metadata": {
    "ExecuteTime": {
     "end_time": "2022-05-27T06:07:37.200223Z",
     "start_time": "2022-05-27T06:07:36.836876Z"
    }
   },
   "outputs": [
    {
     "name": "stdout",
     "output_type": "stream",
     "text": [
      "\n",
      "Media filtrada =  1.59 minutos\n"
     ]
    },
    {
     "data": {
      "image/png": "[encoded data removed]",
      "text/plain": [
       "<Figure size 1080x576 with 1 Axes>"
      ]
     },
     "metadata": {},
     "output_type": "display_data"
    }
   ],
   "source": [
    "# Eliminar los outliers\n",
    "df2=df1\n",
    "dfEliminarOutliers= ((df1['Secuencia']== 1) & (df1['E_Despegue']< 30) & (df1['E_Despegue']> -30))\n",
    "\n",
    "df2 = df2[dfEliminarOutliers]\n",
    "sns.histplot(data= df2.E_Despegue, kde= True)\n",
    "print()\n",
    "print('Media filtrada = ', round(df1['E_Despegue'].mean(),2), 'minutos')\n",
    " "
   ]
  },
  {
   "cell_type": "code",
   "execution_count": 349,
   "id": "8e6408db",
   "metadata": {
    "ExecuteTime": {
     "end_time": "2022-05-27T06:07:37.213544Z",
     "start_time": "2022-05-27T06:07:37.200223Z"
    }
   },
   "outputs": [
    {
     "name": "stdout",
     "output_type": "stream",
     "text": [
      "-2.27\n"
     ]
    }
   ],
   "source": [
    "# Para saber la puntualidad solo de Barcelona\n",
    "barcelonaPuntualidad = (df2['AeropuertoKey1']== 'BCN')\n",
    "\n",
    "df2BarcelonaPuntualida = df2[barcelonaPuntualidad ]\n",
    "df2BarcelonaPuntualida.head()\n",
    "puntualidadBCN = round((df2BarcelonaPuntualida['E_Despegue'].mean()),2)\n",
    "print(puntualidadBCN)"
   ]
  },
  {
   "cell_type": "code",
   "execution_count": 350,
   "id": "6f9c4323",
   "metadata": {
    "ExecuteTime": {
     "end_time": "2022-05-27T06:07:37.906522Z",
     "start_time": "2022-05-27T06:07:37.213544Z"
    }
   },
   "outputs": [
    {
     "data": {
      "text/plain": [
       "Text(0.5, 1.0, 'Puntualidad principales aeropuertos:')"
      ]
     },
     "execution_count": 350,
     "metadata": {},
     "output_type": "execute_result"
    },
    {
     "data": {
      "image/png": "[encoded data removed]",
      "text/plain": [
       "<Figure size 1080x576 with 1 Axes>"
      ]
     },
     "metadata": {},
     "output_type": "display_data"
    }
   ],
   "source": [
    "# Intervalos de Confianza por aeropuerto\n",
    "sns.set_theme(style=\"darkgrid\")\n",
    "#tips = sns.df1(\"tips\")\n",
    "sns.set(rc = {'figure.figsize':(15,8)})      \n",
    "# Tamaño de la imagen\n",
    "ax = sns.pointplot(x='AeropuertoKey1', y = \"E_Despegue\", data= df2, scale=.1, kind = \"point\", capsize=0.13)\n",
    "\n",
    "ax.axhline(puntualidadBCN, color=\"red\", linestyle = '--', label=\"ooas\")       # Linea 0 verde\n",
    "ax.axhline(0, color=\"green\", linestyle = '--')\n",
    "\n",
    "\n",
    "textoBCN = \"BCN \"+ str(puntualidadBCN) + ' minut.'\n",
    "ax.text(puntualidadBCN ,puntualidadBCN , textoBCN, backgroundcolor='w')\n",
    "\n",
    "ax.set_title('Puntualidad principales aeropuertos:', fontsize = 24)"
   ]
  },
  {
   "cell_type": "markdown",
   "id": "213c6d98",
   "metadata": {},
   "source": [
    "# tiempo 'Close Cargo Door'  -   'Close Pax'"
   ]
  },
  {
   "cell_type": "code",
   "execution_count": 351,
   "id": "7676a975",
   "metadata": {
    "ExecuteTime": {
     "end_time": "2022-05-27T06:07:38.243663Z",
     "start_time": "2022-05-27T06:07:37.906522Z"
    }
   },
   "outputs": [
    {
     "name": "stdout",
     "output_type": "stream",
     "text": [
      "\n",
      "Media filtrada =  -123.2 minutos\n"
     ]
    },
    {
     "name": "stderr",
     "output_type": "stream",
     "text": [
      "C:\\Users\\jmmat\\AppData\\Local\\Temp/ipykernel_4652/2514581873.py:5: UserWarning: Boolean Series key will be reindexed to match DataFrame index.\n",
      "  df2 = df2[dfEliminarOutliers]\n"
     ]
    },
    {
     "data": {
      "text/plain": [
       "<matplotlib.lines.Line2D at 0x20529a91b50>"
      ]
     },
     "execution_count": 351,
     "metadata": {},
     "output_type": "execute_result"
    },
    {
     "data": {
      "image/png": "[encoded data removed]",
      "text/plain": [
       "<Figure size 1080x576 with 1 Axes>"
      ]
     },
     "metadata": {},
     "output_type": "display_data"
    }
   ],
   "source": [
    "#t_Close_Cargo_Door\n",
    "\n",
    "dfEliminarOutliers= ((df1['Secuencia']== 1) & (df1['t_Close_Cargo_Door']< 30) & (df1['t_Close_Cargo_Door']> -30))\n",
    "\n",
    "df2 = df2[dfEliminarOutliers]\n",
    "#df2 = df2[dfEliminarOutliers]\n",
    "\n",
    "ax=sns.histplot(data= df2.t_Close_Cargo_Door, kde= True)\n",
    "\n",
    "media = round(df1['t_Close_Cargo_Door'].mean(),2)\n",
    "print()\n",
    "print('Media filtrada = ', media , 'minutos')\n",
    " \n",
    "ax.axvline(puntualidadBCN, color=\"red\", linestyle = '--', label=\"ooas\")       # Linea 0 verde\n",
    "ax.axvline(0, color=\"green\", linestyle = '--')\n"
   ]
  },
  {
   "cell_type": "markdown",
   "id": "64a0295e",
   "metadata": {},
   "source": [
    "# tiempo  'tiempo Close Pax'  -   'ATD'"
   ]
  },
  {
   "cell_type": "code",
   "execution_count": 352,
   "id": "ac8853c6",
   "metadata": {
    "ExecuteTime": {
     "end_time": "2022-05-27T06:07:38.582227Z",
     "start_time": "2022-05-27T06:07:38.243663Z"
    }
   },
   "outputs": [
    {
     "name": "stdout",
     "output_type": "stream",
     "text": [
      "\n",
      "Media filtrada =  -120.56 minutos\n"
     ]
    },
    {
     "name": "stderr",
     "output_type": "stream",
     "text": [
      "C:\\Users\\jmmat\\AppData\\Local\\Temp/ipykernel_4652/2749738335.py:5: UserWarning: Boolean Series key will be reindexed to match DataFrame index.\n",
      "  df2 = df2[dfEliminarOutliers]\n"
     ]
    },
    {
     "data": {
      "text/plain": [
       "<matplotlib.lines.Line2D at 0x2052a1398e0>"
      ]
     },
     "execution_count": 352,
     "metadata": {},
     "output_type": "execute_result"
    },
    {
     "data": {
      "image/png": "[encoded data removed]",
      "text/plain": [
       "<Figure size 1080x576 with 1 Axes>"
      ]
     },
     "metadata": {},
     "output_type": "display_data"
    }
   ],
   "source": [
    "#t_Close_Cargo_Door\n",
    "\n",
    "dfEliminarOutliers= ((df1['Secuencia']== 1) & (df1['t_ClosePax']< 30) & (df1['t_ClosePax']> -30))\n",
    "\n",
    "df2 = df2[dfEliminarOutliers] \n",
    "\n",
    "ax=sns.histplot(data= df2.t_Close_Cargo_Door, kde= True)\n",
    "\n",
    "media = round(df1['t_ClosePax'].mean(),2)\n",
    "print()\n",
    "print('Media filtrada = ', media , 'minutos')\n",
    " \n",
    "ax.axvline(puntualidadBCN, color=\"red\", linestyle = '--', label=\"ooas\")       # Linea 0 verde\n",
    "ax.axvline(0, color=\"green\", linestyle = '--')\n"
   ]
  },
  {
   "cell_type": "code",
   "execution_count": 353,
   "id": "f6003ff6",
   "metadata": {
    "ExecuteTime": {
     "end_time": "2022-05-27T06:07:38.813841Z",
     "start_time": "2022-05-27T06:07:38.582227Z"
    }
   },
   "outputs": [
    {
     "data": {
      "text/plain": [
       "<matplotlib.lines.Line2D at 0x2052a22a1f0>"
      ]
     },
     "execution_count": 353,
     "metadata": {},
     "output_type": "execute_result"
    },
    {
     "data": {
      "image/png": "[encoded data removed]",
      "text/plain": [
       "<Figure size 1080x576 with 1 Axes>"
      ]
     },
     "metadata": {},
     "output_type": "display_data"
    }
   ],
   "source": [
    "ax=sns.histplot(data= df2BarcelonaPuntualida.E_Despegue, kde= True)\n",
    "\n",
    "ax.axvline(puntualidadBCN, color=\"red\", linestyle = '--', label=\"ooas\")       # Linea 0 verde\n",
    "ax.axvline(0, color=\"green\", linestyle = '--')\n"
   ]
  },
  {
   "cell_type": "markdown",
   "id": "6b15fbe7",
   "metadata": {},
   "source": [
    "# creamos los LAGs"
   ]
  },
  {
   "cell_type": "code",
   "execution_count": 354,
   "id": "c541c43a",
   "metadata": {
    "ExecuteTime": {
     "end_time": "2022-05-27T06:07:38.829468Z",
     "start_time": "2022-05-27T06:07:38.813841Z"
    }
   },
   "outputs": [],
   "source": [
    "#Creamos los LAGs\n",
    "\n",
    "df[f'lag_STD']= df['STD'].shift(periods=-1)  \n",
    "#adecuarFechas('DATE', 'lag_STD')\n",
    "df[f'lag_ATD']= df['ATD'].shift(periods=-1)  \n",
    "\n",
    "df[f'lag_STA']= df['STA'].shift(periods=-1)  \n",
    "#adecuarFechas('DATE', 'lag_STD')\n",
    "df[f'lag_ATA']= df['ATA'].shift(periods=-1) \n",
    "\n",
    "\n",
    "#df"
   ]
  },
  {
   "cell_type": "markdown",
   "id": "302d4979",
   "metadata": {},
   "source": [
    "# Tiempo en tierra de una avion despues primer salto\n",
    "##df3 --> Calculo tiempo en tierra"
   ]
  },
  {
   "cell_type": "code",
   "execution_count": 355,
   "id": "a7959df3",
   "metadata": {
    "ExecuteTime": {
     "end_time": "2022-05-27T06:07:38.883824Z",
     "start_time": "2022-05-27T06:07:38.829468Z"
    }
   },
   "outputs": [
    {
     "name": "stdout",
     "output_type": "stream",
     "text": [
      "     Tail  Secuencia                 STD                 ATD  \\\n",
      "0  EC-JSY        1.0 2022-01-01 07:40:00 2022-01-01 08:00:00   \n",
      "1  EC-JSY        2.0 2022-01-01 09:40:00 2022-01-01 09:51:00   \n",
      "2  EC-JSY        3.0 2022-01-01 11:40:00 2022-01-01 11:40:00   \n",
      "3  EC-JSY        4.0 2022-01-01 13:30:00 2022-01-01 13:23:00   \n",
      "\n",
      "              lag_STD  T_teoricoTierra1  E_tierra1  \n",
      "0 2022-01-01 09:40:00              35.0       -4.0  \n",
      "1 2022-01-01 11:40:00              35.0       -4.0  \n",
      "2 2022-01-01 13:30:00              40.0       -2.0  \n",
      "3 2022-01-01 15:15:00              40.0       16.0  \n",
      "\n",
      "Media filtrada =  5.48 minutos\n"
     ]
    }
   ],
   "source": [
    "df= df.sort_values(['Flight Date', 'Tail', 'STD'])\n",
    "\n",
    "\n",
    "\n",
    "df['T_teoricoTierra1'] = (df['lag_STD']- df['STA']) /  np.timedelta64(1, 'm')\n",
    "df['T_RealTierra1'] = (df['lag_ATD']- df['ATA']) /  np.timedelta64(1, 'm')\n",
    "\n",
    "\n",
    "#df['T_teoricoTierra1'] = (df['lag_STD']- df['STA']) \n",
    "#df['T_RealTierra1'] = (df['lag_ATD']- df['ATA']) \n",
    "df['E_tierra1'] = df['T_RealTierra1'] -df['T_teoricoTierra1']\n",
    "\n",
    "\n",
    "#df[f'lag_STD']= df['STD'].shift(periods=-1)  \n",
    "\n",
    "\n",
    "df3=df\n",
    "#selecionoSecuencia_1= (df['Secuencia']== 1)\n",
    "#df3 = df[selecionoSecuencia_1]\n",
    "\n",
    "\n",
    "#print(df3[['DATE','REG', 'Secuencia']][0:8])\n",
    "\n",
    "print(df3[['Tail', 'Secuencia','STD', 'ATD', 'lag_STD', 'T_teoricoTierra1', 'E_tierra1']][0:4])\n",
    "print()\n",
    "print('Media filtrada = ', round(df3['E_tierra1'].mean(),2), 'minutos')\n"
   ]
  },
  {
   "cell_type": "code",
   "execution_count": 356,
   "id": "a8786c2f",
   "metadata": {
    "ExecuteTime": {
     "end_time": "2022-05-27T06:07:38.930611Z",
     "start_time": "2022-05-27T06:07:38.883824Z"
    }
   },
   "outputs": [
    {
     "ename": "KeyError",
     "evalue": "'Puntualidad11'",
     "output_type": "error",
     "traceback": [
      "\u001b[1;31m---------------------------------------------------------------------------\u001b[0m",
      "\u001b[1;31mKeyError\u001b[0m                                  Traceback (most recent call last)",
      "\u001b[1;32m~\\anaconda3\\lib\\site-packages\\pandas\\core\\indexes\\base.py\u001b[0m in \u001b[0;36mget_loc\u001b[1;34m(self, key, method, tolerance)\u001b[0m\n\u001b[0;32m   3360\u001b[0m             \u001b[1;32mtry\u001b[0m\u001b[1;33m:\u001b[0m\u001b[1;33m\u001b[0m\u001b[1;33m\u001b[0m\u001b[0m\n\u001b[1;32m-> 3361\u001b[1;33m                 \u001b[1;32mreturn\u001b[0m \u001b[0mself\u001b[0m\u001b[1;33m.\u001b[0m\u001b[0m_engine\u001b[0m\u001b[1;33m.\u001b[0m\u001b[0mget_loc\u001b[0m\u001b[1;33m(\u001b[0m\u001b[0mcasted_key\u001b[0m\u001b[1;33m)\u001b[0m\u001b[1;33m\u001b[0m\u001b[1;33m\u001b[0m\u001b[0m\n\u001b[0m\u001b[0;32m   3362\u001b[0m             \u001b[1;32mexcept\u001b[0m \u001b[0mKeyError\u001b[0m \u001b[1;32mas\u001b[0m \u001b[0merr\u001b[0m\u001b[1;33m:\u001b[0m\u001b[1;33m\u001b[0m\u001b[1;33m\u001b[0m\u001b[0m\n",
      "\u001b[1;32m~\\anaconda3\\lib\\site-packages\\pandas\\_libs\\index.pyx\u001b[0m in \u001b[0;36mpandas._libs.index.IndexEngine.get_loc\u001b[1;34m()\u001b[0m\n",
      "\u001b[1;32m~\\anaconda3\\lib\\site-packages\\pandas\\_libs\\index.pyx\u001b[0m in \u001b[0;36mpandas._libs.index.IndexEngine.get_loc\u001b[1;34m()\u001b[0m\n",
      "\u001b[1;32mpandas\\_libs\\hashtable_class_helper.pxi\u001b[0m in \u001b[0;36mpandas._libs.hashtable.PyObjectHashTable.get_item\u001b[1;34m()\u001b[0m\n",
      "\u001b[1;32mpandas\\_libs\\hashtable_class_helper.pxi\u001b[0m in \u001b[0;36mpandas._libs.hashtable.PyObjectHashTable.get_item\u001b[1;34m()\u001b[0m\n",
      "\u001b[1;31mKeyError\u001b[0m: 'Puntualidad11'",
      "\nThe above exception was the direct cause of the following exception:\n",
      "\u001b[1;31mKeyError\u001b[0m                                  Traceback (most recent call last)",
      "\u001b[1;32m~\\AppData\\Local\\Temp/ipykernel_4652/2175100140.py\u001b[0m in \u001b[0;36m<module>\u001b[1;34m\u001b[0m\n\u001b[0;32m      1\u001b[0m \u001b[1;31m# Retraso\u001b[0m\u001b[1;33m\u001b[0m\u001b[1;33m\u001b[0m\u001b[1;33m\u001b[0m\u001b[0m\n\u001b[0;32m      2\u001b[0m \u001b[0mdf\u001b[0m\u001b[1;33m[\u001b[0m\u001b[1;34m'Puntualidad1'\u001b[0m\u001b[1;33m]\u001b[0m \u001b[1;33m=\u001b[0m \u001b[1;33m(\u001b[0m\u001b[0mdf\u001b[0m\u001b[1;33m[\u001b[0m\u001b[1;34m'ATA'\u001b[0m\u001b[1;33m]\u001b[0m \u001b[1;33m-\u001b[0m \u001b[0mdf\u001b[0m\u001b[1;33m[\u001b[0m\u001b[1;34m'STA'\u001b[0m\u001b[1;33m]\u001b[0m\u001b[1;33m)\u001b[0m \u001b[1;33m/\u001b[0m  \u001b[0mnp\u001b[0m\u001b[1;33m.\u001b[0m\u001b[0mtimedelta64\u001b[0m\u001b[1;33m(\u001b[0m\u001b[1;36m1\u001b[0m\u001b[1;33m,\u001b[0m \u001b[1;34m'm'\u001b[0m\u001b[1;33m)\u001b[0m\u001b[1;33m\u001b[0m\u001b[1;33m\u001b[0m\u001b[0m\n\u001b[1;32m----> 3\u001b[1;33m \u001b[0mdf\u001b[0m\u001b[1;33m[\u001b[0m\u001b[1;34m'Puntualidad11'\u001b[0m\u001b[1;33m]\u001b[0m\u001b[1;33m.\u001b[0m\u001b[0mhead\u001b[0m\u001b[1;33m(\u001b[0m\u001b[1;36m3\u001b[0m\u001b[1;33m)\u001b[0m\u001b[1;33m\u001b[0m\u001b[1;33m\u001b[0m\u001b[0m\n\u001b[0m",
      "\u001b[1;32m~\\anaconda3\\lib\\site-packages\\pandas\\core\\frame.py\u001b[0m in \u001b[0;36m__getitem__\u001b[1;34m(self, key)\u001b[0m\n\u001b[0;32m   3456\u001b[0m             \u001b[1;32mif\u001b[0m \u001b[0mself\u001b[0m\u001b[1;33m.\u001b[0m\u001b[0mcolumns\u001b[0m\u001b[1;33m.\u001b[0m\u001b[0mnlevels\u001b[0m \u001b[1;33m>\u001b[0m \u001b[1;36m1\u001b[0m\u001b[1;33m:\u001b[0m\u001b[1;33m\u001b[0m\u001b[1;33m\u001b[0m\u001b[0m\n\u001b[0;32m   3457\u001b[0m                 \u001b[1;32mreturn\u001b[0m \u001b[0mself\u001b[0m\u001b[1;33m.\u001b[0m\u001b[0m_getitem_multilevel\u001b[0m\u001b[1;33m(\u001b[0m\u001b[0mkey\u001b[0m\u001b[1;33m)\u001b[0m\u001b[1;33m\u001b[0m\u001b[1;33m\u001b[0m\u001b[0m\n\u001b[1;32m-> 3458\u001b[1;33m             \u001b[0mindexer\u001b[0m \u001b[1;33m=\u001b[0m \u001b[0mself\u001b[0m\u001b[1;33m.\u001b[0m\u001b[0mcolumns\u001b[0m\u001b[1;33m.\u001b[0m\u001b[0mget_loc\u001b[0m\u001b[1;33m(\u001b[0m\u001b[0mkey\u001b[0m\u001b[1;33m)\u001b[0m\u001b[1;33m\u001b[0m\u001b[1;33m\u001b[0m\u001b[0m\n\u001b[0m\u001b[0;32m   3459\u001b[0m             \u001b[1;32mif\u001b[0m \u001b[0mis_integer\u001b[0m\u001b[1;33m(\u001b[0m\u001b[0mindexer\u001b[0m\u001b[1;33m)\u001b[0m\u001b[1;33m:\u001b[0m\u001b[1;33m\u001b[0m\u001b[1;33m\u001b[0m\u001b[0m\n\u001b[0;32m   3460\u001b[0m                 \u001b[0mindexer\u001b[0m \u001b[1;33m=\u001b[0m \u001b[1;33m[\u001b[0m\u001b[0mindexer\u001b[0m\u001b[1;33m]\u001b[0m\u001b[1;33m\u001b[0m\u001b[1;33m\u001b[0m\u001b[0m\n",
      "\u001b[1;32m~\\anaconda3\\lib\\site-packages\\pandas\\core\\indexes\\base.py\u001b[0m in \u001b[0;36mget_loc\u001b[1;34m(self, key, method, tolerance)\u001b[0m\n\u001b[0;32m   3361\u001b[0m                 \u001b[1;32mreturn\u001b[0m \u001b[0mself\u001b[0m\u001b[1;33m.\u001b[0m\u001b[0m_engine\u001b[0m\u001b[1;33m.\u001b[0m\u001b[0mget_loc\u001b[0m\u001b[1;33m(\u001b[0m\u001b[0mcasted_key\u001b[0m\u001b[1;33m)\u001b[0m\u001b[1;33m\u001b[0m\u001b[1;33m\u001b[0m\u001b[0m\n\u001b[0;32m   3362\u001b[0m             \u001b[1;32mexcept\u001b[0m \u001b[0mKeyError\u001b[0m \u001b[1;32mas\u001b[0m \u001b[0merr\u001b[0m\u001b[1;33m:\u001b[0m\u001b[1;33m\u001b[0m\u001b[1;33m\u001b[0m\u001b[0m\n\u001b[1;32m-> 3363\u001b[1;33m                 \u001b[1;32mraise\u001b[0m \u001b[0mKeyError\u001b[0m\u001b[1;33m(\u001b[0m\u001b[0mkey\u001b[0m\u001b[1;33m)\u001b[0m \u001b[1;32mfrom\u001b[0m \u001b[0merr\u001b[0m\u001b[1;33m\u001b[0m\u001b[1;33m\u001b[0m\u001b[0m\n\u001b[0m\u001b[0;32m   3364\u001b[0m \u001b[1;33m\u001b[0m\u001b[0m\n\u001b[0;32m   3365\u001b[0m         \u001b[1;32mif\u001b[0m \u001b[0mis_scalar\u001b[0m\u001b[1;33m(\u001b[0m\u001b[0mkey\u001b[0m\u001b[1;33m)\u001b[0m \u001b[1;32mand\u001b[0m \u001b[0misna\u001b[0m\u001b[1;33m(\u001b[0m\u001b[0mkey\u001b[0m\u001b[1;33m)\u001b[0m \u001b[1;32mand\u001b[0m \u001b[1;32mnot\u001b[0m \u001b[0mself\u001b[0m\u001b[1;33m.\u001b[0m\u001b[0mhasnans\u001b[0m\u001b[1;33m:\u001b[0m\u001b[1;33m\u001b[0m\u001b[1;33m\u001b[0m\u001b[0m\n",
      "\u001b[1;31mKeyError\u001b[0m: 'Puntualidad11'"
     ]
    }
   ],
   "source": [
    "# Retraso\n",
    "df['Puntualidad1'] = (df['ATA'] - df['STA']) /  np.timedelta64(1, 'm') \n",
    "df['Puntualidad11'].head(3)"
   ]
  },
  {
   "cell_type": "markdown",
   "id": "9068a62c",
   "metadata": {},
   "source": [
    "# Creamos los LAG siguientes saltos"
   ]
  },
  {
   "cell_type": "code",
   "execution_count": null,
   "id": "ce860987",
   "metadata": {
    "ExecuteTime": {
     "end_time": "2022-05-27T06:07:38.932606Z",
     "start_time": "2022-05-27T06:07:38.932606Z"
    }
   },
   "outputs": [],
   "source": [
    "df.columns"
   ]
  },
  {
   "cell_type": "code",
   "execution_count": null,
   "id": "95a8ef79",
   "metadata": {
    "ExecuteTime": {
     "end_time": "2022-05-27T06:07:38.934605Z",
     "start_time": "2022-05-27T06:07:38.934605Z"
    }
   },
   "outputs": [],
   "source": [
    "#Creamos los LAGs\n",
    "df[f'E_Despegue2']= df['E_Despegue'].shift(periods=-1) \n",
    "df[f'E_Despegue3']= df['E_Despegue'].shift(periods=-2) \n",
    "\n",
    "df[f'E_Duracion_Vuelo2']= df['E_Duracion_Vuelo'].shift(periods=-1) \n",
    "df[f'E_Duracion_Vuelo3']= df['E_Duracion_Vuelo'].shift(periods=-2) \n",
    "\n",
    "df[f'E_tierra2']= df['E_tierra1'].shift(periods=-1) \n",
    "df[f'E_tierra3']= df['E_tierra1'].shift(periods=-2) \n",
    "\n",
    "df[f'Aeropuerto_Key2']= df['Aeropuerto_Key'].shift(periods=-1) \n",
    "df[f'Aeropuerto_Key3']= df['Aeropuerto_Key'].shift(periods=-2) \n",
    "\n",
    "\n",
    "df[f'Puntualidad2']= df['Puntualidad1'].shift(periods=-1) \n",
    "df[f'Puntualidad3']= df['Puntualidad1'].shift(periods=-2) \n",
    "\n",
    "\n",
    "df[f'E_Despegue_Total'] = df[f'E_Despegue'] + df[f'E_Despegue2'] + df[f'E_Despegue3']\n",
    "df[f'E_Duracion_Vuelo_Total'] = df[f'E_Duracion_Vuelo'] + df[f'E_Duracion_Vuelo2'] + df[f'E_Duracion_Vuelo3']  \n",
    "df[f'E_tierra_Total'] = df[f'E_tierra1'] + df[f'E_tierra2'] + df[f'E_tierra3']    \n",
    "\n",
    "df['E_acumulado_Total'] = df[f'E_Despegue_Total'] + df[f'E_Duracion_Vuelo_Total'] + df[f'E_tierra_Total'] \n"
   ]
  },
  {
   "cell_type": "markdown",
   "id": "eee9b345",
   "metadata": {},
   "source": [
    "# Estudio en Tierra primer aterrizaje."
   ]
  },
  {
   "cell_type": "code",
   "execution_count": null,
   "id": "84994c6b",
   "metadata": {
    "ExecuteTime": {
     "end_time": "2022-05-27T06:07:38.935600Z",
     "start_time": "2022-05-27T06:07:38.935600Z"
    }
   },
   "outputs": [],
   "source": [
    "sns.histplot(data= df3.E_tierra1, kde= True)"
   ]
  },
  {
   "cell_type": "code",
   "execution_count": null,
   "id": "e2ef1148",
   "metadata": {
    "ExecuteTime": {
     "end_time": "2022-05-27T06:07:38.936610Z",
     "start_time": "2022-05-27T06:07:38.936610Z"
    }
   },
   "outputs": [],
   "source": [
    "# Eliminar los outliers\n",
    "#df2=df1\n",
    "dfEliminarOutliers= ((df3['Secuencia']== 1) & (df3['E_tierra1']< 30) & (df3['E_tierra1']> -30))\n",
    "\n",
    "df3 = df3[dfEliminarOutliers]\n",
    "ax = sns.histplot(data= df3.E_tierra1, kde= True)\n",
    "print()\n",
    "print('Media filtrada = ', round(df3['E_tierra1'].mean(),2), 'minutos')\n",
    "\n",
    "media = round(df3['E_tierra1'].mean(),2)\n",
    "\n",
    "ax.axvline(media, color=\"red\", linestyle = '--', label=\"ooas\")       # Linea 0 verde\n",
    "ax.axvline(0, color=\"green\", linestyle = '--')"
   ]
  },
  {
   "cell_type": "code",
   "execution_count": null,
   "id": "e1410825",
   "metadata": {
    "ExecuteTime": {
     "end_time": "2022-05-27T06:07:38.938590Z",
     "start_time": "2022-05-27T06:07:38.938590Z"
    }
   },
   "outputs": [],
   "source": [
    "# Crear Subgrupos de tiempo de boarding:\n",
    "'''\n",
    "df3['t_boarding'] = pd.cut(df3['T_teoricoTierra1'], bins = [ -9000,0, 41, 46,51,60,100000], labels=['NEGATIVOS',\n",
    "                                                                                              '1.- >0 & <=41',\n",
    "                                                                                              '2.- >42 & <=46',\n",
    "                                                                                              '3.- >47 & <51',\n",
    "                                                                                              '4.- >52 & <60',\n",
    "                                                                                              '5.- >61'])\n",
    "'''\n",
    "\n",
    "df3['t_boarding'] = pd.cut(df3['T_teoricoTierra1'], bins = [ -9000, 0, 39, 40, 45, 50, 55, 60, 100000], labels=['NEGATIVOS',\n",
    "                                                                                                          \n",
    "                                                                                                          '1.- <40',\n",
    "                                                                                                          '2.- 40',\n",
    "                                                                                                          '3.- 45',\n",
    "                                                                                                          '4.- 50',\n",
    "                                                                                                          '5.- 55',\n",
    "                                                                                                          '6.- 60', \n",
    "                                                                                                          '7.- >60'])\n",
    "df3[['T_teoricoTierra1', 't_boarding']].head(5)"
   ]
  },
  {
   "cell_type": "code",
   "execution_count": null,
   "id": "55a1a585",
   "metadata": {
    "ExecuteTime": {
     "end_time": "2022-05-27T06:07:38.939587Z",
     "start_time": "2022-05-27T06:07:38.939587Z"
    },
    "code_folding": [
     0
    ]
   },
   "outputs": [],
   "source": [
    "# Para saber error primer boarding solo de Barcelona\n",
    "\n",
    "barcelonaTierra = (df3['Arrival']== 'BCN')\n",
    "\n",
    "df4BarcelonaTierra = df3[barcelonaTierra]\n",
    "df4BarcelonaTierra .head()\n",
    "df4BarcelonaTierraError  = round((df4BarcelonaTierra ['E_tierra1'].mean()),2)\n",
    "print('Error en el aterrizaje de Barcelona ', df4BarcelonaTierraError)"
   ]
  },
  {
   "cell_type": "code",
   "execution_count": null,
   "id": "53c924bd",
   "metadata": {
    "ExecuteTime": {
     "end_time": "2022-05-27T06:07:38.941595Z",
     "start_time": "2022-05-27T06:07:38.941595Z"
    }
   },
   "outputs": [],
   "source": [
    "# Intervalos de Confianza por aeropuerto\n",
    "\n",
    "sns.set_theme(style=\"darkgrid\")\n",
    "#tips = sns.df1(\"tips\")\n",
    "sns.set(rc = {'figure.figsize':(15,8)})      \n",
    "# Tamaño de la imagen\n",
    "ax = sns.pointplot(x='AeropuertoKey1', y = \"E_tierra1\", data= df3, scale=.1, kind = \"point\", capsize=0.13)\n",
    "\n",
    "ax.axhline(df4BarcelonaTierraError , color=\"red\", linestyle = '--', label=\"ooas\")       # Linea 0 verde\n",
    "ax.axhline(0, color=\"green\", linestyle = '--')\n",
    "\n",
    "\n",
    "textoBCN = \"BCN \"+ str(df4BarcelonaTierraError) + ' minut.'\n",
    "ax.text(df4BarcelonaTierraError  ,df4BarcelonaTierraError  , textoBCN, backgroundcolor='w')\n",
    "\n",
    "ax.set_title('Error primer t. BOARDING principales aeropuertos:', fontsize = 24)"
   ]
  },
  {
   "cell_type": "code",
   "execution_count": null,
   "id": "9e94b87d",
   "metadata": {
    "ExecuteTime": {
     "end_time": "2022-05-27T06:07:38.942579Z",
     "start_time": "2022-05-27T06:07:38.942579Z"
    }
   },
   "outputs": [],
   "source": [
    "df4BarcelonaTierra .head()"
   ]
  },
  {
   "cell_type": "code",
   "execution_count": null,
   "id": "00572232",
   "metadata": {
    "ExecuteTime": {
     "end_time": "2022-05-27T06:07:38.944574Z",
     "start_time": "2022-05-27T06:07:38.944574Z"
    }
   },
   "outputs": [],
   "source": [
    "# Contabilizar elementos por grupo de boarding\n",
    "df5= df3['t_boarding'].value_counts()\n",
    "#df5['t_boarding']= df5.sort_values('t_boarding')\n",
    "df5.head()\n",
    "df5"
   ]
  },
  {
   "cell_type": "code",
   "execution_count": null,
   "id": "8a35bd16",
   "metadata": {
    "ExecuteTime": {
     "end_time": "2022-05-27T06:07:38.945571Z",
     "start_time": "2022-05-27T06:07:38.945571Z"
    },
    "code_folding": [
     0
    ]
   },
   "outputs": [],
   "source": [
    "# Intervalos de Confianza por grupo de boarding.\n",
    "\n",
    "sns.set_theme(style=\"darkgrid\")\n",
    "#tips = sns.df1(\"tips\")\n",
    "sns.set(rc = {'figure.figsize':(15,8)})      \n",
    "# Tamaño de la imagen\n",
    "ax = sns.pointplot(x='t_boarding', y = \"E_tierra1\", data= df4BarcelonaTierra, scale=.1, kind = \"point\", capsize=0.13)\n",
    "\n",
    "#ax.axhline(puntualidadBCN, color=\"red\", linestyle = '--', label=\"ooas\")       # Linea 0 verde\n",
    "ax.axhline(0, color=\"green\", linestyle = '--')\n",
    "\n",
    "\n",
    "textoBCN = \"BCN \"+ str(df4BarcelonaTierraError) + ' minut.'\n",
    "ax.text(df4BarcelonaTierraError  ,df4BarcelonaTierraError  , textoBCN, backgroundcolor='w')\n",
    "\n",
    "ax.set_title('Error boarding BCN:', fontsize = 24)"
   ]
  },
  {
   "cell_type": "code",
   "execution_count": null,
   "id": "2beefa62",
   "metadata": {},
   "outputs": [],
   "source": []
  },
  {
   "cell_type": "markdown",
   "id": "3db1278a",
   "metadata": {},
   "source": [
    "# Guardar a EXCEL"
   ]
  },
  {
   "cell_type": "code",
   "execution_count": null,
   "id": "e27c61c6",
   "metadata": {
    "ExecuteTime": {
     "end_time": "2022-05-27T06:07:38.947566Z",
     "start_time": "2022-05-27T06:07:38.947566Z"
    },
    "code_folding": []
   },
   "outputs": [],
   "source": [
    "# Borro las columnas que no me interesan.\n",
    "\n",
    "'''\n",
    "borrarColumnas = ['C1', 'DLY1', 'C2', 'DLY2',\n",
    "       'C3', 'DLY3', 'C4', 'DLY4', 'C2A', 'DLY2A', 'C1Des', 'C2Des', 'C3Des',\n",
    "       'C4Des', 'CADes', 'ID', 'STAND', 'MSN']\n",
    "df3 = df3.drop(borrarColumnas, axis=1)\n",
    "'''"
   ]
  },
  {
   "cell_type": "code",
   "execution_count": null,
   "id": "0147e718",
   "metadata": {
    "ExecuteTime": {
     "end_time": "2022-05-27T06:07:38.948563Z",
     "start_time": "2022-05-27T06:07:38.948563Z"
    }
   },
   "outputs": [],
   "source": [
    "df3.columns"
   ]
  },
  {
   "cell_type": "code",
   "execution_count": null,
   "id": "bb7e533f",
   "metadata": {
    "ExecuteTime": {
     "end_time": "2022-05-27T06:07:38.950558Z",
     "start_time": "2022-05-27T06:07:38.950558Z"
    }
   },
   "outputs": [],
   "source": [
    "# Guardar excel\n",
    "\n",
    "#df3.to_excel(r\"D:\\Documentos D\\02.- Datos Vueling\\Vueling_Python_MAR_\" + Hoja + \".xlsx\")\n",
    "print()\n",
    "print('Guardado fichero : Vueling_Python.xlsx')\n",
    "print()"
   ]
  },
  {
   "cell_type": "markdown",
   "id": "c69025f3",
   "metadata": {},
   "source": [
    "# Estudio de la duracion del vuelo"
   ]
  },
  {
   "cell_type": "code",
   "execution_count": null,
   "id": "420d51b2",
   "metadata": {
    "ExecuteTime": {
     "end_time": "2022-05-27T06:07:38.951557Z",
     "start_time": "2022-05-27T06:07:38.951557Z"
    }
   },
   "outputs": [],
   "source": [
    "# Identifico los Aeropuertos principales.\n",
    "\n",
    "\n",
    "path =(r\"D:\\Documentos D\\02.- Datos Vueling\\Vueling_Trayectos_Duracion_Vuelo.xlsx\")\n",
    "df_Trayectos = pd.read_excel(path, sheet_name='Trayectos')\n",
    "df_Trayectos = df_Trayectos.drop(['Borrar'], axis=1)\n",
    "df_Trayectos.head(3)"
   ]
  },
  {
   "cell_type": "code",
   "execution_count": null,
   "id": "8ef44025",
   "metadata": {
    "ExecuteTime": {
     "end_time": "2022-05-27T06:07:38.953550Z",
     "start_time": "2022-05-27T06:07:38.953550Z"
    }
   },
   "outputs": [],
   "source": [
    "# Solo escojo los datos que necesito para le calculo volando\n",
    "\n",
    "df.columns\n",
    "df5= df\n",
    "borrarColumnas = ['Leg Code', 'Total DLY Dep', 'Close Pax Door',\n",
    "       'Close Cargo Door', 'Open Cargo/Pax Door', 'Stand Dep', 'Stand Arr',\n",
    "        'lag_STD', 'lag_ATD', \n",
    "       \n",
    "       't_ClosePax', 't_Close_Cargo_Door',\n",
    "        'T_teoricoTierra1',\n",
    "       'T_RealTierra1', 't_Entre_Puertas']\n",
    "\n",
    "df5 = df5.drop(borrarColumnas, axis=1)\n",
    "df5.head(1)"
   ]
  },
  {
   "cell_type": "code",
   "execution_count": null,
   "id": "455f98c4",
   "metadata": {
    "ExecuteTime": {
     "end_time": "2022-05-27T06:07:38.954549Z",
     "start_time": "2022-05-27T06:07:38.954549Z"
    }
   },
   "outputs": [],
   "source": [
    "#Agrupo por Trayecto\n",
    "\n",
    "df5= pd.merge(df5,df_Trayectos, left_on= 'Trayecto', right_on='Trayecto')\n",
    "\n",
    "\n",
    "\n",
    "\n",
    "\n",
    "df5= df5.sort_values(['Flight Date', 'Tail', 'STD'])\n",
    "df5= df5.reset_index(drop=True)\n",
    "#borrarColumnas = ['Dep_x', 'Dep_y']\n",
    "#df5 = df5.drop(borrarColumnas, axis=1)\n",
    "df5.head(3)\n"
   ]
  },
  {
   "cell_type": "code",
   "execution_count": null,
   "id": "e148c358",
   "metadata": {
    "ExecuteTime": {
     "end_time": "2022-05-27T06:07:38.955544Z",
     "start_time": "2022-05-27T06:07:38.955544Z"
    }
   },
   "outputs": [],
   "source": [
    "dfEliminarOutliers= (df5['Secuencia']== 1) \n",
    "\n",
    "df5 = df5[dfEliminarOutliers]\n",
    "\n",
    "\n",
    "df5.to_excel(r\"D:\\Documentos D\\02.- Datos Vueling\\Vueling_Python_MAR_Vuelo_\" + Hoja + \".xlsx\")\n",
    "print()\n",
    "print('Guardado fichero : Vueling_Python_MAR_Vuelo.xlsx')\n",
    "print()"
   ]
  },
  {
   "cell_type": "code",
   "execution_count": null,
   "id": "f9942e0d",
   "metadata": {},
   "outputs": [],
   "source": []
  }
 ],
 "metadata": {
  "hide_input": false,
  "kernelspec": {
   "display_name": "Python 3 (ipykernel)",
   "language": "python",
   "name": "python3"
  },
  "language_info": {
   "codemirror_mode": {
    "name": "ipython",
    "version": 3
   },
   "file_extension": ".py",
   "mimetype": "text/x-python",
   "name": "python",
   "nbconvert_exporter": "python",
   "pygments_lexer": "ipython3",
   "version": "3.8.8"
  },
  "toc": {
   "base_numbering": 1,
   "nav_menu": {},
   "number_sections": true,
   "sideBar": true,
   "skip_h1_title": false,
   "title_cell": "Table of Contents",
   "title_sidebar": "Contents",
   "toc_cell": false,
   "toc_position": {},
   "toc_section_display": true,
   "toc_window_display": true
  },
  "varInspector": {
   "cols": {
    "lenName": 16,
    "lenType": 16,
    "lenVar": 40
   },
   "kernels_config": {
    "python": {
     "delete_cmd_postfix": "",
     "delete_cmd_prefix": "del ",
     "library": "var_list.py",
     "varRefreshCmd": "print(var_dic_list())"
    },
    "r": {
     "delete_cmd_postfix": ") ",
     "delete_cmd_prefix": "rm(",
     "library": "var_list.r",
     "varRefreshCmd": "cat(var_dic_list()) "
    }
   },
   "types_to_exclude": [
    "module",
    "function",
    "builtin_function_or_method",
    "instance",
    "_Feature"
   ],
   "window_display": false
  }
 },
 "nbformat": 4,
 "nbformat_minor": 5
}
